{
 "cells": [
  {
   "cell_type": "markdown",
   "id": "a8c56d10",
   "metadata": {},
   "source": [
    "## Practical Work (TD #2): Support Vector Machines on the Penguins Dataset"
   ]
  },
  {
   "cell_type": "markdown",
   "id": "6030fb07",
   "metadata": {},
   "source": [
    "1. Apply Support Vector Machines (SVM) to classify penguin species based on body measurements.\n",
    "2. Explore: \n",
    "    - preprocessing\n",
    "    - visualization\n",
    "    - model training\n",
    "    - evaluation \n",
    "    - hyperparameter tuning."
   ]
  },
  {
   "cell_type": "markdown",
   "id": "4edc0e0c",
   "metadata": {},
   "source": []
  },
  {
   "cell_type": "markdown",
   "id": "b2fc08f2",
   "metadata": {},
   "source": [
    "### 🧠 Dataset\n",
    "* We’ll use Seaborn’s penguins dataset, which contains data about three penguin species:\n",
    "    - Adelie\n",
    "    - Chinstrap\n",
    "    - Gentoo\n",
    "* Each sample includes physical characteristics like bill length, flipper length, and body mass."
   ]
  },
  {
   "cell_type": "code",
   "execution_count": null,
   "id": "03b8ae0e",
   "metadata": {},
   "outputs": [],
   "source": [
    "#upload the dataset\n",
    "#your code here"
   ]
  },
  {
   "cell_type": "markdown",
   "id": "195c6306",
   "metadata": {},
   "source": [
    "## ⚙️ Step 1 — Load and Explore the Dataset\n",
    "\n",
    "**Import libraries:**"
   ]
  },
  {
   "cell_type": "markdown",
   "id": "e05432a6",
   "metadata": {},
   "source": []
  },
  {
   "cell_type": "code",
   "execution_count": null,
   "id": "f29f41f5",
   "metadata": {},
   "outputs": [],
   "source": []
  },
  {
   "cell_type": "markdown",
   "id": "974f4955",
   "metadata": {},
   "source": [
    "### Step 2 — Encode and Visualize the Data"
   ]
  },
  {
   "cell_type": "code",
   "execution_count": null,
   "id": "0dfa3263",
   "metadata": {},
   "outputs": [],
   "source": [
    "sns.pairplot(penguins, hue='species', diag_kind='hist')\n",
    "plt.show()\n"
   ]
  },
  {
   "cell_type": "markdown",
   "id": "442eb895",
   "metadata": {},
   "source": [
    "Question:\n",
    "\n",
    "**Q1**: Do you observe overlap between species?\n",
    "\n",
    "**Q2**:Which features seem most discriminative?"
   ]
  },
  {
   "cell_type": "markdown",
   "id": "e68ea721",
   "metadata": {},
   "source": []
  },
  {
   "cell_type": "markdown",
   "id": "2c134ac0",
   "metadata": {},
   "source": [
    "### 🧩 Step 3 — Split and Standardize"
   ]
  },
  {
   "cell_type": "markdown",
   "id": "d9b6fa67",
   "metadata": {},
   "source": []
  },
  {
   "cell_type": "markdown",
   "id": "0ee9fae3",
   "metadata": {},
   "source": [
    "### 🔹 Step 4 — Train a Linear SVM"
   ]
  },
  {
   "cell_type": "markdown",
   "id": "3dfaf525",
   "metadata": {},
   "source": []
  }
 ],
 "metadata": {
  "language_info": {
   "name": "python"
  }
 },
 "nbformat": 4,
 "nbformat_minor": 5
}
