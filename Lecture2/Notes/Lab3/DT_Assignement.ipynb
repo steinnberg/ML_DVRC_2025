{
 "cells": [
  {
   "cell_type": "markdown",
   "id": "66dcb5a7-215b-4e63-8e4e-f48d5e0ea19f",
   "metadata": {},
   "source": [
    "#### 1) Setup & Data Loading"
   ]
  },
  {
   "cell_type": "markdown",
   "id": "33c2d82d",
   "metadata": {},
   "source": [
    "* Importe the Palmer's Penguins dataset from Kaggle"
   ]
  },
  {
   "cell_type": "code",
   "execution_count": 1,
   "id": "2d72826f-0d16-46d5-b5bc-df2543f2e633",
   "metadata": {},
   "outputs": [],
   "source": [
    "#Your code here"
   ]
  },
  {
   "cell_type": "markdown",
   "id": "e7062dcd-ad61-4adc-90c7-645d00b7161f",
   "metadata": {},
   "source": [
    "**Q1** (check): How many rows and columns does the dataset have? Which columns are numeric vs categorical?"
   ]
  },
  {
   "cell_type": "code",
   "execution_count": null,
   "id": "a85714fe",
   "metadata": {},
   "outputs": [],
   "source": [
    "#Your code here"
   ]
  },
  {
   "cell_type": "markdown",
   "id": "f2ddce4a-b35c-4f7f-a42f-5e9f464491f5",
   "metadata": {},
   "source": [
    "#### 2) Basic EDA (Exploratory Data Analysis)"
   ]
  },
  {
   "cell_type": "code",
   "execution_count": null,
   "id": "641198da",
   "metadata": {},
   "outputs": [],
   "source": [
    "#Your code here"
   ]
  },
  {
   "cell_type": "markdown",
   "id": "000daaf9-cca3-460b-89a6-5cae8f8377a0",
   "metadata": {},
   "source": [
    "**Q2**: Which columns contain missing values? What strategy will you use to handle them?"
   ]
  },
  {
   "cell_type": "code",
   "execution_count": null,
   "id": "b9b4a0f3",
   "metadata": {},
   "outputs": [],
   "source": [
    "#Your code here"
   ]
  },
  {
   "cell_type": "markdown",
   "id": "3ba7b0f9-4228-4c60-8e62-2d2860506e71",
   "metadata": {},
   "source": [
    "**Q3**: Is the dataset balanced across the three species?"
   ]
  },
  {
   "cell_type": "markdown",
   "id": "785dad83-a69e-43df-a2ed-c6f17f565c1f",
   "metadata": {},
   "source": [
    "#### 3) Data Cleaning & Encoding"
   ]
  },
  {
   "cell_type": "markdown",
   "id": "95cae88c-f9ff-466d-b1c0-8aa558f574f9",
   "metadata": {},
   "source": [
    "* We’ll keep only rows with complete values for simplicity."
   ]
  },
  {
   "cell_type": "code",
   "execution_count": 2,
   "id": "0e97d8e5-5f33-43e7-bc96-53c625959d67",
   "metadata": {},
   "outputs": [],
   "source": [
    "#Your code here"
   ]
  },
  {
   "cell_type": "markdown",
   "id": "15c360f6-25be-427e-964e-3360a1cc20dc",
   "metadata": {},
   "source": [
    "**Q4**: Why don’t we need to scale features for Decision Trees?"
   ]
  },
  {
   "cell_type": "code",
   "execution_count": null,
   "id": "2e251428",
   "metadata": {},
   "outputs": [],
   "source": [
    "#Your code here"
   ]
  },
  {
   "cell_type": "markdown",
   "id": "1881c568-ba3d-4d07-a85b-34e632975121",
   "metadata": {},
   "source": [
    "#### 4) Train/Test Split"
   ]
  },
  {
   "cell_type": "code",
   "execution_count": null,
   "id": "dcb05f8e-de14-4c57-baf0-4211536c8b3b",
   "metadata": {},
   "outputs": [],
   "source": [
    "#Your code here"
   ]
  },
  {
   "cell_type": "markdown",
   "id": "ce8d8e3c-ac0d-4440-ad3a-46ec9a863286",
   "metadata": {},
   "source": [
    "**Q5**: Why do we use stratify=y in this split?"
   ]
  },
  {
   "cell_type": "markdown",
   "id": "2b039f9d-a330-4155-a156-a24ff6769d8b",
   "metadata": {},
   "source": [
    "#### 5) Baseline Decision Tree"
   ]
  },
  {
   "cell_type": "code",
   "execution_count": null,
   "id": "5ea580f3-e81b-4890-8b5d-eceec7a881d8",
   "metadata": {},
   "outputs": [],
   "source": [
    "#Your code here"
   ]
  },
  {
   "cell_type": "markdown",
   "id": "dc3b6d0e-9ca9-4e41-bb89-2d2c2145cc84",
   "metadata": {},
   "source": [
    "**Q6**: Which classes are the most/least confounded? What might cause that?"
   ]
  },
  {
   "cell_type": "markdown",
   "id": "3e77948a-8e69-4175-b250-08959d951578",
   "metadata": {},
   "source": [
    "#### 6) Visualize the Tree"
   ]
  },
  {
   "cell_type": "code",
   "execution_count": 3,
   "id": "e0d56f12-dd99-41cc-b9c4-42e6b4f544fa",
   "metadata": {},
   "outputs": [],
   "source": [
    "#your code here"
   ]
  },
  {
   "cell_type": "markdown",
   "id": "192895c0-e86a-40aa-a492-08295b2d4bdf",
   "metadata": {},
   "source": [
    "**Q7**: What is the root split (feature and threshold)? Why do you think the algorithm chose it?"
   ]
  },
  {
   "cell_type": "markdown",
   "id": "82f809bf-a431-49c9-b7fe-a7c13925e648",
   "metadata": {},
   "source": [
    "#### 7) Decision Boundaries (2D View)\n",
    "* Pick two features (e.g., bill_length_mm vs bill_depth_mm) and visualize the decision surface."
   ]
  },
  {
   "cell_type": "code",
   "execution_count": 4,
   "id": "99500b4a-4376-406a-995b-5c05d901f6a4",
   "metadata": {},
   "outputs": [],
   "source": [
    "#Your code here\n"
   ]
  },
  {
   "cell_type": "markdown",
   "id": "969bdaa1-00a2-4c39-be0f-db4f6a0f7ac8",
   "metadata": {},
   "source": [
    "**Q8**: Do the boundaries look axis-aligned? Why is that a natural property of Decision Trees?"
   ]
  },
  {
   "cell_type": "markdown",
   "id": "81a63ced-0512-4242-a797-f1ebf20d7921",
   "metadata": {},
   "source": [
    "#### 8) Hyperparameter Tuning with GridSearchCV"
   ]
  },
  {
   "cell_type": "code",
   "execution_count": 5,
   "id": "046af1db-364c-46a2-99f5-383fa1bbf2d9",
   "metadata": {},
   "outputs": [],
   "source": [
    "#You code here"
   ]
  },
  {
   "cell_type": "markdown",
   "id": "68453f73-62a5-405c-a6ed-c39b8d1e0123",
   "metadata": {},
   "source": [
    "**Q9**: Which hyperparameters changed compared to the baseline? How did test accuracy change?\n",
    "\n",
    "**Q10**: If CV accuracy is much higher than test accuracy, what could be happening?"
   ]
  },
  {
   "cell_type": "markdown",
   "id": "0f285985-36b6-4fc2-b633-1fa048ed6014",
   "metadata": {},
   "source": [
    "#### 9) Model Interpretation"
   ]
  },
  {
   "cell_type": "code",
   "execution_count": 6,
   "id": "2aef3ea8-2ab3-48b9-b7b9-17acd973a400",
   "metadata": {},
   "outputs": [],
   "source": [
    "#Your code here"
   ]
  },
  {
   "cell_type": "markdown",
   "id": "7f60d9e5-e20a-414a-a9f5-f252b98cec5f",
   "metadata": {},
   "source": [
    "**Q11**: Which feature is most important? Is that consistent with your EDA intuition?\n",
    "\n",
    "**Q12**: For the inspected sample, does the class probability look confident? Why/why not?"
   ]
  },
  {
   "cell_type": "markdown",
   "id": "8a2893ca-f004-4d97-9594-95fe01a449cb",
   "metadata": {},
   "source": [
    "#### 10) (Optional) Add Categorical Features & Compare"
   ]
  },
  {
   "cell_type": "code",
   "execution_count": 7,
   "id": "22d9552a-ac03-4a80-b5c9-dbdfd8c684e8",
   "metadata": {},
   "outputs": [],
   "source": [
    "#Your code here"
   ]
  },
  {
   "cell_type": "markdown",
   "id": "8b4e263a-ffe7-40a1-bb5b-2b6ba90ecadb",
   "metadata": {},
   "source": [
    "**Q13**: Did adding island/sex help? Why might these variables be informative for species?"
   ]
  },
  {
   "cell_type": "markdown",
   "id": "c8192da5-76de-4ba2-93dc-2fd2d144f975",
   "metadata": {},
   "source": [
    "#### 11) Reflection & Reporting"
   ]
  },
  {
   "cell_type": "markdown",
   "id": "32ae1efc-baf0-42fe-8726-697f2cf0c005",
   "metadata": {},
   "source": [
    "Write a short reflection (5–10 lines):\n",
    "- Compare Decision Tree vs KNN on this dataset.\n",
    "-  Where does the tree overfit? How did pruning/tuning impact generalization?\n",
    "- Which 2D feature pair gave the clearest separation? Why?"
   ]
  },
  {
   "cell_type": "code",
   "execution_count": null,
   "id": "8d62ebc4-5cc9-4890-a823-d02a017f5abd",
   "metadata": {},
   "outputs": [],
   "source": []
  }
 ],
 "metadata": {
  "kernelspec": {
   "display_name": "Python 3 (ipykernel)",
   "language": "python",
   "name": "python3"
  },
  "language_info": {
   "codemirror_mode": {
    "name": "ipython",
    "version": 3
   },
   "file_extension": ".py",
   "mimetype": "text/x-python",
   "name": "python",
   "nbconvert_exporter": "python",
   "pygments_lexer": "ipython3",
   "version": "3.12.3"
  }
 },
 "nbformat": 4,
 "nbformat_minor": 5
}
